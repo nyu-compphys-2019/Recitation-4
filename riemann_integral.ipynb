{
 "cells": [
  {
   "cell_type": "code",
   "execution_count": 5,
   "metadata": {},
   "outputs": [],
   "source": [
    "import numpy as np\n",
    "import matplotlib.pyplot as plt"
   ]
  },
  {
   "cell_type": "code",
   "execution_count": 6,
   "metadata": {},
   "outputs": [],
   "source": [
    "def integrate_riemann_left( f, a, b, N ):\n",
    "    \n",
    "    h = (b-a)/N\n",
    "    I = 0\n",
    "    \n",
    "    for k in range(N):\n",
    "        x = a + k*h\n",
    "        I += h * f(x)\n",
    "    return I"
   ]
  },
  {
   "cell_type": "code",
   "execution_count": 7,
   "metadata": {},
   "outputs": [],
   "source": [
    "def f1(x):\n",
    "    return np.sin(x)"
   ]
  },
  {
   "cell_type": "code",
   "execution_count": 17,
   "metadata": {},
   "outputs": [],
   "source": [
    "a = 0.0\n",
    "b = np.pi/2\n",
    "N = 100\n",
    "exact = 1.0"
   ]
  },
  {
   "cell_type": "code",
   "execution_count": 18,
   "metadata": {},
   "outputs": [
    {
     "name": "stdout",
     "output_type": "stream",
     "text": [
      "0.9921254566056334 0.007874543394366551\n"
     ]
    }
   ],
   "source": [
    "I1 = integrate_riemann_left( f1, a, b, N )\n",
    "print( I1, np.abs(I1-exact)/exact )"
   ]
  },
  {
   "cell_type": "code",
   "execution_count": 39,
   "metadata": {},
   "outputs": [
    {
     "name": "stdout",
     "output_type": "stream",
     "text": [
      "Slope of log-log plot: -1.0153854615331288\n"
     ]
    },
    {
     "data": {
      "image/png": "[encoded data removed]",
      "text/plain": [
       "<Figure size 432x288 with 2 Axes>"
      ]
     },
     "metadata": {
      "needs_background": "light"
     },
     "output_type": "display_data"
    }
   ],
   "source": [
    "Ns = [2, 4, 8, 16, 32, 64, 128, 256, 512, 1024]\n",
    "err_list = []\n",
    "\n",
    "for N in Ns:\n",
    "    I = integrate_riemann_left( f1, a, b, N )\n",
    "    err = (I - exact)/exact\n",
    "    err_list.append(err)\n",
    "\n",
    "fig = plt.figure()\n",
    "ax1 = fig.add_subplot(2,1,1)\n",
    "ax1.scatter( Ns, np.fabs(err_list) )\n",
    "\n",
    "ax2 = fig.add_subplot(2,1,2)\n",
    "ax2.scatter( np.log10(Ns), np.log10(np.fabs(err_list)) )\n",
    "m,c = np.polyfit(np.log10(Ns), np.log10(np.fabs(err_list)) , 1 )\n",
    "#ax2.plot(np.log10(Ns), np.log10(Ns)*m + c, '--' )\n",
    "print('Slope of log-log plot:', m)\n",
    "ax2.set_xlabel(r\"$N$\")\n",
    "ax2.set_ylabel('Log($\\epsilon$)')\n",
    "#plt.savefig('left_riem_convergence.png')\n",
    "plt.show()"
   ]
  },
  {
   "cell_type": "code",
   "execution_count": null,
   "metadata": {},
   "outputs": [],
   "source": []
  }
 ],
 "metadata": {
  "kernelspec": {
   "display_name": "Python 3",
   "language": "python",
   "name": "python3"
  },
  "language_info": {
   "codemirror_mode": {
    "name": "ipython",
    "version": 3
   },
   "file_extension": ".py",
   "mimetype": "text/x-python",
   "name": "python",
   "nbconvert_exporter": "python",
   "pygments_lexer": "ipython3",
   "version": "3.7.3"
  }
 },
 "nbformat": 4,
 "nbformat_minor": 2
}
